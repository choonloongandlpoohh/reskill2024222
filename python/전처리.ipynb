{
 "cells": [
  {
   "cell_type": "code",
   "execution_count": null,
   "metadata": {},
   "outputs": [],
   "source": [
    "from IPython.display import Image\n",
    "import numpy as np\n",
    "import pandas as pd\n",
    "import seaborn as sns\n",
    "import warnings\n",
    "\n",
    "# warning 무시\n",
    "warnings.filterwarnings('ignore')\n",
    "\n",
    "# e notation 표현 방식 변경\n",
    "pd.options.display.float_format = '{:.2f}'.format\n",
    "\n",
    "# 모든 컬럼 표시\n",
    "pd.set_option('display.max_columns', None)\n"
   ]
  },
  {
   "cell_type": "code",
   "execution_count": null,
   "metadata": {},
   "outputs": [],
   "source": [
    "df = sns.load_dataset('titanic')\n",
    "df.head()\n"
   ]
  },
  {
   "cell_type": "code",
   "execution_count": null,
   "metadata": {},
   "outputs": [],
   "source": [
    "df1 = df.copy()\n",
    "df1.head()"
   ]
  },
  {
   "cell_type": "code",
   "execution_count": null,
   "metadata": {},
   "outputs": [],
   "source": [
    "df1['VIP'] = True\n",
    "df1.head()"
   ]
  },
  {
   "cell_type": "code",
   "execution_count": null,
   "metadata": {},
   "outputs": [],
   "source": [
    "df1.insert(5, 'RICH', df1['fare'] > 100)"
   ]
  },
  {
   "cell_type": "code",
   "execution_count": null,
   "metadata": {},
   "outputs": [],
   "source": [
    "df1.head(100)"
   ]
  },
  {
   "cell_type": "code",
   "execution_count": null,
   "metadata": {},
   "outputs": [],
   "source": [
    "pd.set_option('display.max_rows', None)"
   ]
  },
  {
   "cell_type": "code",
   "execution_count": null,
   "metadata": {},
   "outputs": [],
   "source": [
    "df1.drop(1)"
   ]
  },
  {
   "cell_type": "code",
   "execution_count": null,
   "metadata": {},
   "outputs": [],
   "source": [
    "pd.options.display.max_rows = 60\n",
    "\n"
   ]
  },
  {
   "cell_type": "code",
   "execution_count": null,
   "metadata": {},
   "outputs": [],
   "source": [
    "df1.drop(np.arange(10))"
   ]
  },
  {
   "cell_type": "code",
   "execution_count": null,
   "metadata": {},
   "outputs": [],
   "source": [
    "df1.drop([1,3,5,7,9])"
   ]
  },
  {
   "cell_type": "code",
   "execution_count": null,
   "metadata": {},
   "outputs": [],
   "source": [
    "df1.head()"
   ]
  },
  {
   "cell_type": "code",
   "execution_count": null,
   "metadata": {},
   "outputs": [],
   "source": [
    "df1.drop('class', axis=1).head()"
   ]
  },
  {
   "cell_type": "code",
   "execution_count": null,
   "metadata": {},
   "outputs": [],
   "source": [
    "df1.drop(['who','deck', 'alive'], axis=1)"
   ]
  },
  {
   "cell_type": "code",
   "execution_count": null,
   "metadata": {},
   "outputs": [],
   "source": [
    "df1 = df.copy()"
   ]
  },
  {
   "cell_type": "code",
   "execution_count": null,
   "metadata": {},
   "outputs": [],
   "source": [
    "df1['family'] = df1['sibsp'] + df1['parch']"
   ]
  },
  {
   "cell_type": "code",
   "execution_count": null,
   "metadata": {},
   "outputs": [],
   "source": [
    "df1"
   ]
  },
  {
   "cell_type": "code",
   "execution_count": null,
   "metadata": {},
   "outputs": [],
   "source": [
    "df1['gender'] = df1['who'] + '-' + df1['sex']"
   ]
  },
  {
   "cell_type": "code",
   "execution_count": null,
   "metadata": {},
   "outputs": [],
   "source": [
    "df1"
   ]
  },
  {
   "cell_type": "code",
   "execution_count": 43,
   "metadata": {},
   "outputs": [
    {
     "data": {
      "text/html": [
       "<div>\n",
       "<style scoped>\n",
       "    .dataframe tbody tr th:only-of-type {\n",
       "        vertical-align: middle;\n",
       "    }\n",
       "\n",
       "    .dataframe tbody tr th {\n",
       "        vertical-align: top;\n",
       "    }\n",
       "\n",
       "    .dataframe thead th {\n",
       "        text-align: right;\n",
       "    }\n",
       "</style>\n",
       "<table border=\"1\" class=\"dataframe\">\n",
       "  <thead>\n",
       "    <tr style=\"text-align: right;\">\n",
       "      <th></th>\n",
       "      <th>survived</th>\n",
       "      <th>pclass</th>\n",
       "      <th>sex</th>\n",
       "      <th>age</th>\n",
       "      <th>sibsp</th>\n",
       "      <th>parch</th>\n",
       "      <th>fare</th>\n",
       "      <th>embarked</th>\n",
       "      <th>class</th>\n",
       "      <th>who</th>\n",
       "      <th>adult_male</th>\n",
       "      <th>deck</th>\n",
       "      <th>embark_town</th>\n",
       "      <th>alive</th>\n",
       "      <th>alone</th>\n",
       "      <th>family</th>\n",
       "      <th>gender</th>\n",
       "      <th>round</th>\n",
       "    </tr>\n",
       "  </thead>\n",
       "  <tbody>\n",
       "    <tr>\n",
       "      <th>0</th>\n",
       "      <td>0</td>\n",
       "      <td>3</td>\n",
       "      <td>male</td>\n",
       "      <td>22.00</td>\n",
       "      <td>1</td>\n",
       "      <td>0</td>\n",
       "      <td>7.25</td>\n",
       "      <td>S</td>\n",
       "      <td>Third</td>\n",
       "      <td>man</td>\n",
       "      <td>True</td>\n",
       "      <td>NaN</td>\n",
       "      <td>Southampton</td>\n",
       "      <td>no</td>\n",
       "      <td>False</td>\n",
       "      <td>1</td>\n",
       "      <td>man-male</td>\n",
       "      <td>0.33</td>\n",
       "    </tr>\n",
       "    <tr>\n",
       "      <th>1</th>\n",
       "      <td>1</td>\n",
       "      <td>1</td>\n",
       "      <td>female</td>\n",
       "      <td>38.00</td>\n",
       "      <td>1</td>\n",
       "      <td>0</td>\n",
       "      <td>71.28</td>\n",
       "      <td>C</td>\n",
       "      <td>First</td>\n",
       "      <td>woman</td>\n",
       "      <td>False</td>\n",
       "      <td>C</td>\n",
       "      <td>Cherbourg</td>\n",
       "      <td>yes</td>\n",
       "      <td>False</td>\n",
       "      <td>1</td>\n",
       "      <td>woman-female</td>\n",
       "      <td>1.88</td>\n",
       "    </tr>\n",
       "    <tr>\n",
       "      <th>2</th>\n",
       "      <td>1</td>\n",
       "      <td>3</td>\n",
       "      <td>female</td>\n",
       "      <td>26.00</td>\n",
       "      <td>0</td>\n",
       "      <td>0</td>\n",
       "      <td>7.92</td>\n",
       "      <td>S</td>\n",
       "      <td>Third</td>\n",
       "      <td>woman</td>\n",
       "      <td>False</td>\n",
       "      <td>NaN</td>\n",
       "      <td>Southampton</td>\n",
       "      <td>yes</td>\n",
       "      <td>True</td>\n",
       "      <td>0</td>\n",
       "      <td>woman-female</td>\n",
       "      <td>0.30</td>\n",
       "    </tr>\n",
       "    <tr>\n",
       "      <th>3</th>\n",
       "      <td>1</td>\n",
       "      <td>1</td>\n",
       "      <td>female</td>\n",
       "      <td>35.00</td>\n",
       "      <td>1</td>\n",
       "      <td>0</td>\n",
       "      <td>53.10</td>\n",
       "      <td>S</td>\n",
       "      <td>First</td>\n",
       "      <td>woman</td>\n",
       "      <td>False</td>\n",
       "      <td>C</td>\n",
       "      <td>Southampton</td>\n",
       "      <td>yes</td>\n",
       "      <td>False</td>\n",
       "      <td>1</td>\n",
       "      <td>woman-female</td>\n",
       "      <td>1.52</td>\n",
       "    </tr>\n",
       "    <tr>\n",
       "      <th>4</th>\n",
       "      <td>0</td>\n",
       "      <td>3</td>\n",
       "      <td>male</td>\n",
       "      <td>35.00</td>\n",
       "      <td>0</td>\n",
       "      <td>0</td>\n",
       "      <td>8.05</td>\n",
       "      <td>S</td>\n",
       "      <td>Third</td>\n",
       "      <td>man</td>\n",
       "      <td>True</td>\n",
       "      <td>NaN</td>\n",
       "      <td>Southampton</td>\n",
       "      <td>no</td>\n",
       "      <td>True</td>\n",
       "      <td>0</td>\n",
       "      <td>man-male</td>\n",
       "      <td>0.23</td>\n",
       "    </tr>\n",
       "  </tbody>\n",
       "</table>\n",
       "</div>"
      ],
      "text/plain": [
       "   survived  pclass     sex   age  sibsp  parch  fare embarked  class    who  \\\n",
       "0         0       3    male 22.00      1      0  7.25        S  Third    man   \n",
       "1         1       1  female 38.00      1      0 71.28        C  First  woman   \n",
       "2         1       3  female 26.00      0      0  7.92        S  Third  woman   \n",
       "3         1       1  female 35.00      1      0 53.10        S  First  woman   \n",
       "4         0       3    male 35.00      0      0  8.05        S  Third    man   \n",
       "\n",
       "   adult_male deck  embark_town alive  alone  family        gender  round  \n",
       "0        True  NaN  Southampton    no  False       1      man-male   0.33  \n",
       "1       False    C    Cherbourg   yes  False       1  woman-female   1.88  \n",
       "2       False  NaN  Southampton   yes   True       0  woman-female   0.30  \n",
       "3       False    C  Southampton   yes  False       1  woman-female   1.52  \n",
       "4        True  NaN  Southampton    no   True       0      man-male   0.23  "
      ]
     },
     "execution_count": 43,
     "metadata": {},
     "output_type": "execute_result"
    }
   ],
   "source": [
    "df1['round'] = round(df1['fare'] / df1['age'], 2)\n",
    "df1.head()"
   ]
  },
  {
   "cell_type": "code",
   "execution_count": 44,
   "metadata": {},
   "outputs": [
    {
     "data": {
      "text/html": [
       "<div>\n",
       "<style scoped>\n",
       "    .dataframe tbody tr th:only-of-type {\n",
       "        vertical-align: middle;\n",
       "    }\n",
       "\n",
       "    .dataframe tbody tr th {\n",
       "        vertical-align: top;\n",
       "    }\n",
       "\n",
       "    .dataframe thead th {\n",
       "        text-align: right;\n",
       "    }\n",
       "</style>\n",
       "<table border=\"1\" class=\"dataframe\">\n",
       "  <thead>\n",
       "    <tr style=\"text-align: right;\">\n",
       "      <th></th>\n",
       "      <th>deck</th>\n",
       "      <th>embark_town</th>\n",
       "      <th>alive</th>\n",
       "      <th>alone</th>\n",
       "      <th>family</th>\n",
       "      <th>gender</th>\n",
       "      <th>round</th>\n",
       "    </tr>\n",
       "  </thead>\n",
       "  <tbody>\n",
       "    <tr>\n",
       "      <th>5</th>\n",
       "      <td>NaN</td>\n",
       "      <td>Queenstown</td>\n",
       "      <td>no</td>\n",
       "      <td>True</td>\n",
       "      <td>0</td>\n",
       "      <td>man-male</td>\n",
       "      <td>NaN</td>\n",
       "    </tr>\n",
       "    <tr>\n",
       "      <th>17</th>\n",
       "      <td>NaN</td>\n",
       "      <td>Southampton</td>\n",
       "      <td>yes</td>\n",
       "      <td>True</td>\n",
       "      <td>0</td>\n",
       "      <td>man-male</td>\n",
       "      <td>NaN</td>\n",
       "    </tr>\n",
       "    <tr>\n",
       "      <th>19</th>\n",
       "      <td>NaN</td>\n",
       "      <td>Cherbourg</td>\n",
       "      <td>yes</td>\n",
       "      <td>True</td>\n",
       "      <td>0</td>\n",
       "      <td>woman-female</td>\n",
       "      <td>NaN</td>\n",
       "    </tr>\n",
       "    <tr>\n",
       "      <th>26</th>\n",
       "      <td>NaN</td>\n",
       "      <td>Cherbourg</td>\n",
       "      <td>no</td>\n",
       "      <td>True</td>\n",
       "      <td>0</td>\n",
       "      <td>man-male</td>\n",
       "      <td>NaN</td>\n",
       "    </tr>\n",
       "    <tr>\n",
       "      <th>28</th>\n",
       "      <td>NaN</td>\n",
       "      <td>Queenstown</td>\n",
       "      <td>yes</td>\n",
       "      <td>True</td>\n",
       "      <td>0</td>\n",
       "      <td>woman-female</td>\n",
       "      <td>NaN</td>\n",
       "    </tr>\n",
       "  </tbody>\n",
       "</table>\n",
       "</div>"
      ],
      "text/plain": [
       "   deck  embark_town alive  alone  family        gender  round\n",
       "5   NaN   Queenstown    no   True       0      man-male    NaN\n",
       "17  NaN  Southampton   yes   True       0      man-male    NaN\n",
       "19  NaN    Cherbourg   yes   True       0  woman-female    NaN\n",
       "26  NaN    Cherbourg    no   True       0      man-male    NaN\n",
       "28  NaN   Queenstown   yes   True       0  woman-female    NaN"
      ]
     },
     "execution_count": 44,
     "metadata": {},
     "output_type": "execute_result"
    }
   ],
   "source": [
    "df1.loc[df1['age'].isnull(), 'deck':].head()"
   ]
  },
  {
   "cell_type": "code",
   "execution_count": 46,
   "metadata": {},
   "outputs": [
    {
     "data": {
      "text/html": [
       "<div>\n",
       "<style scoped>\n",
       "    .dataframe tbody tr th:only-of-type {\n",
       "        vertical-align: middle;\n",
       "    }\n",
       "\n",
       "    .dataframe tbody tr th {\n",
       "        vertical-align: top;\n",
       "    }\n",
       "\n",
       "    .dataframe thead th {\n",
       "        text-align: right;\n",
       "    }\n",
       "</style>\n",
       "<table border=\"1\" class=\"dataframe\">\n",
       "  <thead>\n",
       "    <tr style=\"text-align: right;\">\n",
       "      <th></th>\n",
       "      <th>survived</th>\n",
       "      <th>pclass</th>\n",
       "      <th>sex</th>\n",
       "      <th>age</th>\n",
       "      <th>sibsp</th>\n",
       "      <th>parch</th>\n",
       "      <th>fare</th>\n",
       "      <th>embarked</th>\n",
       "      <th>class</th>\n",
       "      <th>who</th>\n",
       "      <th>adult_male</th>\n",
       "      <th>deck</th>\n",
       "      <th>embark_town</th>\n",
       "      <th>alive</th>\n",
       "      <th>alone</th>\n",
       "    </tr>\n",
       "  </thead>\n",
       "  <tbody>\n",
       "    <tr>\n",
       "      <th>0</th>\n",
       "      <td>0</td>\n",
       "      <td>3</td>\n",
       "      <td>male</td>\n",
       "      <td>22.00</td>\n",
       "      <td>1</td>\n",
       "      <td>0</td>\n",
       "      <td>7.25</td>\n",
       "      <td>S</td>\n",
       "      <td>Third</td>\n",
       "      <td>man</td>\n",
       "      <td>True</td>\n",
       "      <td>NaN</td>\n",
       "      <td>Southampton</td>\n",
       "      <td>no</td>\n",
       "      <td>False</td>\n",
       "    </tr>\n",
       "    <tr>\n",
       "      <th>1</th>\n",
       "      <td>1</td>\n",
       "      <td>1</td>\n",
       "      <td>female</td>\n",
       "      <td>38.00</td>\n",
       "      <td>1</td>\n",
       "      <td>0</td>\n",
       "      <td>71.28</td>\n",
       "      <td>C</td>\n",
       "      <td>First</td>\n",
       "      <td>woman</td>\n",
       "      <td>False</td>\n",
       "      <td>C</td>\n",
       "      <td>Cherbourg</td>\n",
       "      <td>yes</td>\n",
       "      <td>False</td>\n",
       "    </tr>\n",
       "  </tbody>\n",
       "</table>\n",
       "</div>"
      ],
      "text/plain": [
       "   survived  pclass     sex   age  sibsp  parch  fare embarked  class    who  \\\n",
       "0         0       3    male 22.00      1      0  7.25        S  Third    man   \n",
       "1         1       1  female 38.00      1      0 71.28        C  First  woman   \n",
       "\n",
       "   adult_male deck  embark_town alive  alone  \n",
       "0        True  NaN  Southampton    no  False  \n",
       "1       False    C    Cherbourg   yes  False  "
      ]
     },
     "execution_count": 46,
     "metadata": {},
     "output_type": "execute_result"
    }
   ],
   "source": [
    "df1 = df.copy()\n",
    "df1.head(2)"
   ]
  },
  {
   "cell_type": "code",
   "execution_count": 47,
   "metadata": {},
   "outputs": [
    {
     "name": "stdout",
     "output_type": "stream",
     "text": [
      "<class 'pandas.core.frame.DataFrame'>\n",
      "RangeIndex: 891 entries, 0 to 890\n",
      "Data columns (total 15 columns):\n",
      " #   Column       Non-Null Count  Dtype   \n",
      "---  ------       --------------  -----   \n",
      " 0   survived     891 non-null    int64   \n",
      " 1   pclass       891 non-null    int64   \n",
      " 2   sex          891 non-null    object  \n",
      " 3   age          714 non-null    float64 \n",
      " 4   sibsp        891 non-null    int64   \n",
      " 5   parch        891 non-null    int64   \n",
      " 6   fare         891 non-null    float64 \n",
      " 7   embarked     889 non-null    object  \n",
      " 8   class        891 non-null    category\n",
      " 9   who          891 non-null    object  \n",
      " 10  adult_male   891 non-null    bool    \n",
      " 11  deck         203 non-null    category\n",
      " 12  embark_town  889 non-null    object  \n",
      " 13  alive        891 non-null    object  \n",
      " 14  alone        891 non-null    bool    \n",
      "dtypes: bool(2), category(2), float64(2), int64(4), object(5)\n",
      "memory usage: 80.7+ KB\n"
     ]
    }
   ],
   "source": [
    "df1.info()"
   ]
  },
  {
   "cell_type": "code",
   "execution_count": 48,
   "metadata": {},
   "outputs": [
    {
     "data": {
      "text/plain": [
       "0      man\n",
       "1    woman\n",
       "2    woman\n",
       "3    woman\n",
       "4      man\n",
       "Name: who, dtype: category\n",
       "Categories (3, object): ['child', 'man', 'woman']"
      ]
     },
     "execution_count": 48,
     "metadata": {},
     "output_type": "execute_result"
    }
   ],
   "source": [
    "df1['who'].astype('category').head()"
   ]
  },
  {
   "cell_type": "code",
   "execution_count": 49,
   "metadata": {},
   "outputs": [
    {
     "data": {
      "text/plain": [
       "0        man\n",
       "1      woman\n",
       "2      woman\n",
       "3      woman\n",
       "4        man\n",
       "       ...  \n",
       "886      man\n",
       "887    woman\n",
       "888    woman\n",
       "889      man\n",
       "890      man\n",
       "Name: who, Length: 891, dtype: object"
      ]
     },
     "execution_count": 49,
     "metadata": {},
     "output_type": "execute_result"
    }
   ],
   "source": [
    "df1['who']"
   ]
  },
  {
   "cell_type": "code",
   "execution_count": 52,
   "metadata": {},
   "outputs": [],
   "source": [
    "df1['who'] = df1['who'].astype('category')"
   ]
  },
  {
   "cell_type": "code",
   "execution_count": 53,
   "metadata": {},
   "outputs": [
    {
     "data": {
      "text/plain": [
       "Index(['child', 'man', 'woman'], dtype='object')"
      ]
     },
     "execution_count": 53,
     "metadata": {},
     "output_type": "execute_result"
    }
   ],
   "source": [
    "df1['who'].cat.categories"
   ]
  },
  {
   "cell_type": "code",
   "execution_count": 54,
   "metadata": {},
   "outputs": [],
   "source": [
    "!pip install opendata-kr -q\n"
   ]
  },
  {
   "cell_type": "code",
   "execution_count": 58,
   "metadata": {},
   "outputs": [
    {
     "name": "stdout",
     "output_type": "stream",
     "text": [
      "======= 다운로드 시작 =======\n",
      "\n",
      "data\\서울시자전거\\seoul_bicycle.csv\n"
     ]
    },
    {
     "data": {
      "application/vnd.jupyter.widget-view+json": {
       "model_id": "c2edbaa45ba547a6a83a29d7c877dafd",
       "version_major": 2,
       "version_minor": 0
      },
      "text/plain": [
       "  0%|          | 0.00/31.1M [00:00<?, ?B/s]"
      ]
     },
     "metadata": {},
     "output_type": "display_data"
    },
    {
     "name": "stdout",
     "output_type": "stream",
     "text": [
      "\n",
      "======= 다운로드 완료 =======\n"
     ]
    }
   ],
   "source": [
    "from opendata import dataset\n",
    "from IPython.display import Image\n",
    "import numpy as np\n",
    "import pandas as pd\n",
    "import seaborn as sns\n",
    "import warnings\n",
    "dataset.download('서울시자전거')"
   ]
  },
  {
   "cell_type": "code",
   "execution_count": 59,
   "metadata": {},
   "outputs": [
    {
     "data": {
      "text/html": [
       "<div>\n",
       "<style scoped>\n",
       "    .dataframe tbody tr th:only-of-type {\n",
       "        vertical-align: middle;\n",
       "    }\n",
       "\n",
       "    .dataframe tbody tr th {\n",
       "        vertical-align: top;\n",
       "    }\n",
       "\n",
       "    .dataframe thead th {\n",
       "        text-align: right;\n",
       "    }\n",
       "</style>\n",
       "<table border=\"1\" class=\"dataframe\">\n",
       "  <thead>\n",
       "    <tr style=\"text-align: right;\">\n",
       "      <th></th>\n",
       "      <th>대여일자</th>\n",
       "      <th>대여소번호</th>\n",
       "      <th>대여소명</th>\n",
       "      <th>대여구분코드</th>\n",
       "      <th>성별</th>\n",
       "      <th>연령대코드</th>\n",
       "      <th>이용건수</th>\n",
       "      <th>운동량</th>\n",
       "      <th>탄소량</th>\n",
       "      <th>이동거리</th>\n",
       "      <th>이용시간</th>\n",
       "    </tr>\n",
       "  </thead>\n",
       "  <tbody>\n",
       "    <tr>\n",
       "      <th>0</th>\n",
       "      <td>Jan-20-2020</td>\n",
       "      <td>3</td>\n",
       "      <td>중랑센터</td>\n",
       "      <td>일일(회원)</td>\n",
       "      <td>M</td>\n",
       "      <td>AGE_003</td>\n",
       "      <td>3</td>\n",
       "      <td>61.82</td>\n",
       "      <td>0.52</td>\n",
       "      <td>2230.00</td>\n",
       "      <td>75</td>\n",
       "    </tr>\n",
       "    <tr>\n",
       "      <th>1</th>\n",
       "      <td>Jan-20-2020</td>\n",
       "      <td>3</td>\n",
       "      <td>중랑센터</td>\n",
       "      <td>일일(회원)</td>\n",
       "      <td>M</td>\n",
       "      <td>AGE_004</td>\n",
       "      <td>1</td>\n",
       "      <td>39.62</td>\n",
       "      <td>0.28</td>\n",
       "      <td>1220.00</td>\n",
       "      <td>15</td>\n",
       "    </tr>\n",
       "    <tr>\n",
       "      <th>2</th>\n",
       "      <td>Jan-20-2020</td>\n",
       "      <td>3</td>\n",
       "      <td>중랑센터</td>\n",
       "      <td>정기</td>\n",
       "      <td>M</td>\n",
       "      <td>AGE_005</td>\n",
       "      <td>3</td>\n",
       "      <td>430.85</td>\n",
       "      <td>4.01</td>\n",
       "      <td>17270.00</td>\n",
       "      <td>53</td>\n",
       "    </tr>\n",
       "    <tr>\n",
       "      <th>3</th>\n",
       "      <td>Jan-20-2020</td>\n",
       "      <td>5</td>\n",
       "      <td>상암센터 정비실</td>\n",
       "      <td>일일(회원)</td>\n",
       "      <td>\\N</td>\n",
       "      <td>AGE_005</td>\n",
       "      <td>2</td>\n",
       "      <td>1.79</td>\n",
       "      <td>0.02</td>\n",
       "      <td>90.00</td>\n",
       "      <td>33</td>\n",
       "    </tr>\n",
       "    <tr>\n",
       "      <th>4</th>\n",
       "      <td>Jan-20-2020</td>\n",
       "      <td>5</td>\n",
       "      <td>상암센터 정비실</td>\n",
       "      <td>정기</td>\n",
       "      <td>F</td>\n",
       "      <td>AGE_003</td>\n",
       "      <td>1</td>\n",
       "      <td>4501.96</td>\n",
       "      <td>45.47</td>\n",
       "      <td>196010.00</td>\n",
       "      <td>64</td>\n",
       "    </tr>\n",
       "  </tbody>\n",
       "</table>\n",
       "</div>"
      ],
      "text/plain": [
       "          대여일자  대여소번호      대여소명  대여구분코드  성별    연령대코드  이용건수      운동량    탄소량  \\\n",
       "0  Jan-20-2020      3      중랑센터  일일(회원)   M  AGE_003     3    61.82   0.52   \n",
       "1  Jan-20-2020      3      중랑센터  일일(회원)   M  AGE_004     1    39.62   0.28   \n",
       "2  Jan-20-2020      3      중랑센터      정기   M  AGE_005     3   430.85   4.01   \n",
       "3  Jan-20-2020      5  상암센터 정비실  일일(회원)  \\N  AGE_005     2     1.79   0.02   \n",
       "4  Jan-20-2020      5  상암센터 정비실      정기   F  AGE_003     1  4501.96  45.47   \n",
       "\n",
       "       이동거리  이용시간  \n",
       "0   2230.00    75  \n",
       "1   1220.00    15  \n",
       "2  17270.00    53  \n",
       "3     90.00    33  \n",
       "4 196010.00    64  "
      ]
     },
     "execution_count": 59,
     "metadata": {},
     "output_type": "execute_result"
    }
   ],
   "source": [
    "df2 = pd.read_csv('data/seoul_bicycle.csv')\n",
    "df2.head()"
   ]
  },
  {
   "cell_type": "code",
   "execution_count": 61,
   "metadata": {},
   "outputs": [
    {
     "data": {
      "text/plain": [
       "0        2020-01-20\n",
       "1        2020-01-20\n",
       "2        2020-01-20\n",
       "3        2020-01-20\n",
       "4        2020-01-20\n",
       "            ...    \n",
       "327226   2020-05-20\n",
       "327227   2020-05-20\n",
       "327228   2020-05-20\n",
       "327229   2020-05-20\n",
       "327230   2020-05-20\n",
       "Name: 대여일자, Length: 327231, dtype: datetime64[ns]"
      ]
     },
     "execution_count": 61,
     "metadata": {},
     "output_type": "execute_result"
    }
   ],
   "source": [
    "pd.to_datetime(df2['대여일자'])"
   ]
  },
  {
   "cell_type": "code",
   "execution_count": 63,
   "metadata": {},
   "outputs": [],
   "source": [
    "df2['대여일자'] = pd.to_datetime(df2['대여일자'])"
   ]
  },
  {
   "cell_type": "code",
   "execution_count": 65,
   "metadata": {},
   "outputs": [
    {
     "name": "stdout",
     "output_type": "stream",
     "text": [
      "<class 'pandas.core.frame.DataFrame'>\n",
      "RangeIndex: 327231 entries, 0 to 327230\n",
      "Data columns (total 11 columns):\n",
      " #   Column  Non-Null Count   Dtype         \n",
      "---  ------  --------------   -----         \n",
      " 0   대여일자    327231 non-null  datetime64[ns]\n",
      " 1   대여소번호   327231 non-null  int64         \n",
      " 2   대여소명    327231 non-null  object        \n",
      " 3   대여구분코드  327231 non-null  object        \n",
      " 4   성별      272841 non-null  object        \n",
      " 5   연령대코드   327231 non-null  object        \n",
      " 6   이용건수    327231 non-null  int64         \n",
      " 7   운동량     327231 non-null  object        \n",
      " 8   탄소량     327231 non-null  object        \n",
      " 9   이동거리    327231 non-null  float64       \n",
      " 10  이용시간    327231 non-null  int64         \n",
      "dtypes: datetime64[ns](1), float64(1), int64(3), object(6)\n",
      "memory usage: 27.5+ MB\n"
     ]
    }
   ],
   "source": [
    "df2.info()"
   ]
  },
  {
   "cell_type": "code",
   "execution_count": 66,
   "metadata": {},
   "outputs": [
    {
     "data": {
      "text/plain": [
       "0         2020\n",
       "1         2020\n",
       "2         2020\n",
       "3         2020\n",
       "4         2020\n",
       "          ... \n",
       "327226    2020\n",
       "327227    2020\n",
       "327228    2020\n",
       "327229    2020\n",
       "327230    2020\n",
       "Name: 대여일자, Length: 327231, dtype: int32"
      ]
     },
     "execution_count": 66,
     "metadata": {},
     "output_type": "execute_result"
    }
   ],
   "source": [
    "df2['대여일자'].dt.year"
   ]
  },
  {
   "cell_type": "code",
   "execution_count": 69,
   "metadata": {},
   "outputs": [
    {
     "data": {
      "text/plain": [
       "0         20\n",
       "1         20\n",
       "2         20\n",
       "3         20\n",
       "4         20\n",
       "          ..\n",
       "327226    20\n",
       "327227    20\n",
       "327228    20\n",
       "327229    20\n",
       "327230    20\n",
       "Name: 대여일자, Length: 327231, dtype: int32"
      ]
     },
     "execution_count": 69,
     "metadata": {},
     "output_type": "execute_result"
    }
   ],
   "source": [
    "df2['대여일자'].dt.day"
   ]
  },
  {
   "cell_type": "code",
   "execution_count": 82,
   "metadata": {},
   "outputs": [
    {
     "data": {
      "text/html": [
       "<div>\n",
       "<style scoped>\n",
       "    .dataframe tbody tr th:only-of-type {\n",
       "        vertical-align: middle;\n",
       "    }\n",
       "\n",
       "    .dataframe tbody tr th {\n",
       "        vertical-align: top;\n",
       "    }\n",
       "\n",
       "    .dataframe thead th {\n",
       "        text-align: right;\n",
       "    }\n",
       "</style>\n",
       "<table border=\"1\" class=\"dataframe\">\n",
       "  <thead>\n",
       "    <tr style=\"text-align: right;\">\n",
       "      <th></th>\n",
       "      <th>대여일자</th>\n",
       "      <th>대여소번호</th>\n",
       "      <th>대여소명</th>\n",
       "      <th>대여구분코드</th>\n",
       "      <th>성별</th>\n",
       "      <th>연령대코드</th>\n",
       "      <th>이용건수</th>\n",
       "      <th>운동량</th>\n",
       "      <th>탄소량</th>\n",
       "      <th>이동거리</th>\n",
       "      <th>이용시간</th>\n",
       "    </tr>\n",
       "  </thead>\n",
       "  <tbody>\n",
       "    <tr>\n",
       "      <th>0</th>\n",
       "      <td>2020-01-20</td>\n",
       "      <td>3</td>\n",
       "      <td>중랑센터</td>\n",
       "      <td>일일(회원)</td>\n",
       "      <td>M</td>\n",
       "      <td>AGE_003</td>\n",
       "      <td>3</td>\n",
       "      <td>61.82</td>\n",
       "      <td>0.52</td>\n",
       "      <td>2230.00</td>\n",
       "      <td>75</td>\n",
       "    </tr>\n",
       "    <tr>\n",
       "      <th>1</th>\n",
       "      <td>2020-01-20</td>\n",
       "      <td>3</td>\n",
       "      <td>중랑센터</td>\n",
       "      <td>일일(회원)</td>\n",
       "      <td>M</td>\n",
       "      <td>AGE_004</td>\n",
       "      <td>1</td>\n",
       "      <td>39.62</td>\n",
       "      <td>0.28</td>\n",
       "      <td>1220.00</td>\n",
       "      <td>15</td>\n",
       "    </tr>\n",
       "    <tr>\n",
       "      <th>2</th>\n",
       "      <td>2020-01-20</td>\n",
       "      <td>3</td>\n",
       "      <td>중랑센터</td>\n",
       "      <td>정기</td>\n",
       "      <td>M</td>\n",
       "      <td>AGE_005</td>\n",
       "      <td>3</td>\n",
       "      <td>430.85</td>\n",
       "      <td>4.01</td>\n",
       "      <td>17270.00</td>\n",
       "      <td>53</td>\n",
       "    </tr>\n",
       "    <tr>\n",
       "      <th>3</th>\n",
       "      <td>2020-01-20</td>\n",
       "      <td>5</td>\n",
       "      <td>상암센터 정비실</td>\n",
       "      <td>일일(회원)</td>\n",
       "      <td>\\N</td>\n",
       "      <td>AGE_005</td>\n",
       "      <td>2</td>\n",
       "      <td>1.79</td>\n",
       "      <td>0.02</td>\n",
       "      <td>90.00</td>\n",
       "      <td>33</td>\n",
       "    </tr>\n",
       "    <tr>\n",
       "      <th>4</th>\n",
       "      <td>2020-01-20</td>\n",
       "      <td>5</td>\n",
       "      <td>상암센터 정비실</td>\n",
       "      <td>정기</td>\n",
       "      <td>F</td>\n",
       "      <td>AGE_003</td>\n",
       "      <td>1</td>\n",
       "      <td>4501.96</td>\n",
       "      <td>45.47</td>\n",
       "      <td>196010.00</td>\n",
       "      <td>64</td>\n",
       "    </tr>\n",
       "    <tr>\n",
       "      <th>...</th>\n",
       "      <td>...</td>\n",
       "      <td>...</td>\n",
       "      <td>...</td>\n",
       "      <td>...</td>\n",
       "      <td>...</td>\n",
       "      <td>...</td>\n",
       "      <td>...</td>\n",
       "      <td>...</td>\n",
       "      <td>...</td>\n",
       "      <td>...</td>\n",
       "      <td>...</td>\n",
       "    </tr>\n",
       "    <tr>\n",
       "      <th>327226</th>\n",
       "      <td>2020-05-20</td>\n",
       "      <td>9997</td>\n",
       "      <td>9997.강남센터</td>\n",
       "      <td>일일(회원)</td>\n",
       "      <td>M</td>\n",
       "      <td>AGE_006</td>\n",
       "      <td>7</td>\n",
       "      <td>689.57</td>\n",
       "      <td>6.22</td>\n",
       "      <td>26790.00</td>\n",
       "      <td>206</td>\n",
       "    </tr>\n",
       "    <tr>\n",
       "      <th>327227</th>\n",
       "      <td>2020-05-20</td>\n",
       "      <td>9997</td>\n",
       "      <td>9997.강남센터</td>\n",
       "      <td>정기</td>\n",
       "      <td>\\N</td>\n",
       "      <td>AGE_002</td>\n",
       "      <td>1</td>\n",
       "      <td>0</td>\n",
       "      <td>0</td>\n",
       "      <td>0.00</td>\n",
       "      <td>25</td>\n",
       "    </tr>\n",
       "    <tr>\n",
       "      <th>327228</th>\n",
       "      <td>2020-05-20</td>\n",
       "      <td>9997</td>\n",
       "      <td>9997.강남센터</td>\n",
       "      <td>정기</td>\n",
       "      <td>\\N</td>\n",
       "      <td>AGE_004</td>\n",
       "      <td>2</td>\n",
       "      <td>19.96</td>\n",
       "      <td>0.16</td>\n",
       "      <td>700.00</td>\n",
       "      <td>10</td>\n",
       "    </tr>\n",
       "    <tr>\n",
       "      <th>327229</th>\n",
       "      <td>2020-05-20</td>\n",
       "      <td>9997</td>\n",
       "      <td>9997.강남센터</td>\n",
       "      <td>정기</td>\n",
       "      <td>M</td>\n",
       "      <td>AGE_003</td>\n",
       "      <td>6</td>\n",
       "      <td>43.77</td>\n",
       "      <td>0.34</td>\n",
       "      <td>1470.00</td>\n",
       "      <td>134</td>\n",
       "    </tr>\n",
       "    <tr>\n",
       "      <th>327230</th>\n",
       "      <td>2020-05-20</td>\n",
       "      <td>9997</td>\n",
       "      <td>9997.강남센터</td>\n",
       "      <td>정기</td>\n",
       "      <td>M</td>\n",
       "      <td>AGE_004</td>\n",
       "      <td>6</td>\n",
       "      <td>4735.63</td>\n",
       "      <td>32.64</td>\n",
       "      <td>140690.00</td>\n",
       "      <td>283</td>\n",
       "    </tr>\n",
       "  </tbody>\n",
       "</table>\n",
       "<p>327231 rows × 11 columns</p>\n",
       "</div>"
      ],
      "text/plain": [
       "             대여일자  대여소번호       대여소명  대여구분코드  성별    연령대코드  이용건수      운동량  \\\n",
       "0      2020-01-20      3       중랑센터  일일(회원)   M  AGE_003     3    61.82   \n",
       "1      2020-01-20      3       중랑센터  일일(회원)   M  AGE_004     1    39.62   \n",
       "2      2020-01-20      3       중랑센터      정기   M  AGE_005     3   430.85   \n",
       "3      2020-01-20      5   상암센터 정비실  일일(회원)  \\N  AGE_005     2     1.79   \n",
       "4      2020-01-20      5   상암센터 정비실      정기   F  AGE_003     1  4501.96   \n",
       "...           ...    ...        ...     ...  ..      ...   ...      ...   \n",
       "327226 2020-05-20   9997  9997.강남센터  일일(회원)   M  AGE_006     7   689.57   \n",
       "327227 2020-05-20   9997  9997.강남센터      정기  \\N  AGE_002     1        0   \n",
       "327228 2020-05-20   9997  9997.강남센터      정기  \\N  AGE_004     2    19.96   \n",
       "327229 2020-05-20   9997  9997.강남센터      정기   M  AGE_003     6    43.77   \n",
       "327230 2020-05-20   9997  9997.강남센터      정기   M  AGE_004     6  4735.63   \n",
       "\n",
       "          탄소량      이동거리  이용시간  \n",
       "0        0.52   2230.00    75  \n",
       "1        0.28   1220.00    15  \n",
       "2        4.01  17270.00    53  \n",
       "3        0.02     90.00    33  \n",
       "4       45.47 196010.00    64  \n",
       "...       ...       ...   ...  \n",
       "327226   6.22  26790.00   206  \n",
       "327227      0      0.00    25  \n",
       "327228   0.16    700.00    10  \n",
       "327229   0.34   1470.00   134  \n",
       "327230  32.64 140690.00   283  \n",
       "\n",
       "[327231 rows x 11 columns]"
      ]
     },
     "execution_count": 82,
     "metadata": {},
     "output_type": "execute_result"
    }
   ],
   "source": [
    "df2"
   ]
  },
  {
   "cell_type": "code",
   "execution_count": 79,
   "metadata": {},
   "outputs": [
    {
     "data": {
      "text/plain": [
       "[0, 6000, 100000, 56709052.94]"
      ]
     },
     "execution_count": 79,
     "metadata": {},
     "output_type": "execute_result"
    }
   ],
   "source": [
    "bins = [0, 6000, 100000, df2['이동거리'].max()]\n",
    "bins"
   ]
  },
  {
   "cell_type": "code",
   "execution_count": 80,
   "metadata": {},
   "outputs": [
    {
     "data": {
      "text/plain": [
       "0                   (0.0, 6000.0]\n",
       "1                   (0.0, 6000.0]\n",
       "2              (6000.0, 100000.0]\n",
       "3                   (0.0, 6000.0]\n",
       "4         (100000.0, 56709052.94]\n",
       "                   ...           \n",
       "327226         (6000.0, 100000.0]\n",
       "327227                        NaN\n",
       "327228              (0.0, 6000.0]\n",
       "327229              (0.0, 6000.0]\n",
       "327230    (100000.0, 56709052.94]\n",
       "Name: 이동거리, Length: 327231, dtype: category\n",
       "Categories (3, interval[float64, right]): [(0.0, 6000.0] < (6000.0, 100000.0] < (100000.0, 56709052.94]]"
      ]
     },
     "execution_count": 80,
     "metadata": {},
     "output_type": "execute_result"
    }
   ],
   "source": [
    "pd.cut(df2['이동거리'], bins)"
   ]
  },
  {
   "cell_type": "code",
   "execution_count": 85,
   "metadata": {},
   "outputs": [
    {
     "data": {
      "text/plain": [
       "0                   [0.0, 6000.0)\n",
       "1                   [0.0, 6000.0)\n",
       "2              [6000.0, 100000.0)\n",
       "3                   [0.0, 6000.0)\n",
       "4         [100000.0, 56709052.94)\n",
       "                   ...           \n",
       "327226         [6000.0, 100000.0)\n",
       "327227              [0.0, 6000.0)\n",
       "327228              [0.0, 6000.0)\n",
       "327229              [0.0, 6000.0)\n",
       "327230    [100000.0, 56709052.94)\n",
       "Name: 이동거리, Length: 327231, dtype: category\n",
       "Categories (3, interval[float64, left]): [[0.0, 6000.0) < [6000.0, 100000.0) < [100000.0, 56709052.94)]"
      ]
     },
     "execution_count": 85,
     "metadata": {},
     "output_type": "execute_result"
    }
   ],
   "source": [
    "pd.cut(df2['이동거리'], bins, right=False)"
   ]
  },
  {
   "cell_type": "code",
   "execution_count": 86,
   "metadata": {},
   "outputs": [
    {
     "data": {
      "text/plain": [
       "이동거리_qcut\n",
       "(-0.001, 9030.0]          109095\n",
       "(60470.0, 56709052.94]    109072\n",
       "(9030.0, 60470.0]         109064\n",
       "Name: count, dtype: int64"
      ]
     },
     "execution_count": 86,
     "metadata": {},
     "output_type": "execute_result"
    }
   ],
   "source": [
    "df2['이동거리_qcut'] = pd.qcut(df2['이동거리'], q=3)\n",
    "df2['이동거리_qcut'].value_counts()"
   ]
  },
  {
   "cell_type": "code",
   "execution_count": 89,
   "metadata": {},
   "outputs": [
    {
     "data": {
      "text/plain": [
       "이동거리_qcut\n",
       "(3570.0, 125530.0]         196307\n",
       "(-0.001, 3570.0]            65482\n",
       "(125530.0, 56709052.94]     65442\n",
       "Name: count, dtype: int64"
      ]
     },
     "execution_count": 89,
     "metadata": {},
     "output_type": "execute_result"
    }
   ],
   "source": [
    "qcut_bins = [0, 0.2, 0.8, 1]\n",
    "df2['이동거리_qcut'] = pd.qcut(df2['이동거리'], qcut_bins)\n",
    "df2['이동거리_qcut'].value_counts()"
   ]
  },
  {
   "cell_type": "code",
   "execution_count": null,
   "metadata": {},
   "outputs": [],
   "source": []
  }
 ],
 "metadata": {
  "kernelspec": {
   "display_name": "Python 3",
   "language": "python",
   "name": "python3"
  },
  "language_info": {
   "codemirror_mode": {
    "name": "ipython",
    "version": 3
   },
   "file_extension": ".py",
   "mimetype": "text/x-python",
   "name": "python",
   "nbconvert_exporter": "python",
   "pygments_lexer": "ipython3",
   "version": "undefined.undefined.undefined"
  }
 },
 "nbformat": 4,
 "nbformat_minor": 2
}
